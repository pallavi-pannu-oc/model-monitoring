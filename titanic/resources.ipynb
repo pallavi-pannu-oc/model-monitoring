{
 "cells": [
  {
   "cell_type": "markdown",
   "metadata": {},
   "source": [
    "#### Defined by User"
   ]
  },
  {
   "cell_type": "code",
   "execution_count": null,
   "metadata": {},
   "outputs": [],
   "source": [
    "## Define the model monitor name here that you will be creating \n",
    "MONITOR_NAME = \"mm-demo-titanic-local\"\n",
    "## Specify the data source [aws_s3,sql,local]\n",
    "DATA_SOURCE = \"local\"\n",
    "## Specify Training type, [training,retraining]\n",
    "INPUT_TRAIN_TYPE = \"training\"\n",
    "## specify your Dkube username\n",
    "DKUBEUSERNAME = \"\"\n",
    "\n",
    "## Dkube information\n",
    "import os\n",
    "TOKEN = os.getenv(\"DKUBE_USER_ACCESS_TOKEN\",\"\")\n",
    "DKUBE_URL = os.getenv(\"DKUBE_URL\",\"\")\n",
    "\n",
    "## AWS_S3 \n",
    "ACCESS_KEY = os.getenv(\"AWS_ACCESS_KEY_ID\",\"\")\n",
    "SECRET_KEY = os.getenv(\"AWS_SECRET_ACCESS_KEY\",\"\")\n",
    "\n",
    "## SQL\n",
    "DBHOSTNAME = os.getenv(\"DBHOSTNAME\",\"\")\n",
    "DATABASENAME= os.getenv(\"DATABASENAME\",\"\")\n",
    "DBUSERNAME = os.getenv(\"DBUSERNAME\",\"\")\n",
    "DBPASSWORD = os.getenv(\"DBPASSWORD\",\"\")\n",
    "\n",
    "\n",
    "\n",
    "if TOKEN == '' or DKUBEUSERNAME == '' or DKUBE_URL == '':\n",
    "    print(\"Please fill the Dkube details first (TOKEN, DKUBE_URL, DKUBEUSERNAME)\")\n",
    "    raise TypeError\n",
    "if DATA_SOURCE == 'aws_s3' and (ACCESS_KEY == '' or SECRET_KEY == ''):\n",
    "    print(\"Please fill the AWS_S3 details first (ACCESS_KEY, SECRET_KEY)\")\n",
    "    raise TypeError\n",
    "if DATA_SOURCE == 'sql' and (DBHOSTNAME == '' or DATABASENAME == '' or DBUSERNAME == '' or DBPASSWORD == ''):\n",
    "    print(\"Please fill the SQL details first (DBHOSTNAME, DATABASENAME, DBUSERNAME, DBPASSWORD)\")\n",
    "    raise TypeError"
   ]
  },
  {
   "cell_type": "code",
   "execution_count": null,
   "metadata": {},
   "outputs": [],
   "source": [
    "%store MONITOR_NAME \n",
    "%store DATA_SOURCE \n",
    "%store INPUT_TRAIN_TYPE \n",
    "%store DKUBEUSERNAME \n",
    "%store TOKEN \n",
    "%store DKUBE_URL \n",
    "%store ACCESS_KEY \n",
    "%store SECRET_KEY \n",
    "%store DBHOSTNAME \n",
    "%store DATABASENAME \n",
    "%store DBUSERNAME \n",
    "%store DBPASSWORD"
   ]
  },
  {
   "cell_type": "markdown",
   "metadata": {},
   "source": [
    "#### Dkube Resources"
   ]
  },
  {
   "cell_type": "code",
   "execution_count": null,
   "metadata": {},
   "outputs": [],
   "source": [
    "import time,json,shutil\n",
    "from dkube.sdk import *"
   ]
  },
  {
   "cell_type": "code",
   "execution_count": null,
   "metadata": {},
   "outputs": [],
   "source": [
    "api = DkubeApi(URL=DKUBE_URL,token=TOKEN)\n",
    "if DKUBEUSERNAME == api.validate_token()['username']:\n",
    "    pass\n",
    "else:\n",
    "    print(\"Invalid User, please check your username, first\")"
   ]
  },
  {
   "cell_type": "markdown",
   "metadata": {},
   "source": [
    "#### Dataset"
   ]
  },
  {
   "cell_type": "code",
   "execution_count": null,
   "metadata": {},
   "outputs": [],
   "source": [
    "if DATA_SOURCE == 'local' or DATA_SOURCE == 'aws_s3':\n",
    "    try:\n",
    "        dataset = DkubeDataset(DKUBEUSERNAME, name='titanic-data')\n",
    "        dataset.update_git_details(url=\"https://dkube-examples-data.s3.us-west-2.amazonaws.com/monitoring-titanic/training-data/titanic.csv\")\n",
    "        dataset.update_dataset_source(source=\"pub_url\")\n",
    "        api.create_dataset(dataset)\n",
    "    except Exception as e:\n",
    "        if e.reason.lower()!=\"conflict\":\n",
    "            response = e.body\n",
    "            print(f\"Failed[{response.code}]: {response.message}\")\n",
    "        \n",
    "if DATA_SOURCE == 'sql':\n",
    "    try:\n",
    "        dataset = DkubeDataset(DKUBEUSERNAME, name='titanic-data-sql',remote=True)\n",
    "        dataset.update_dataset_source('sql')\n",
    "        dataset.update_sql_details(host=DBHOSTNAME.split(\":\")[0],port=int(DBHOSTNAME.split(\":\")[1]),username=DBUSERNAME,password=DBPASSWORD,database=DATABASENAME,provider=\"mysql\")\n",
    "        api.create_dataset(dataset)\n",
    "     \n",
    "    except Exception as e:\n",
    "        if e.reason.lower()!=\"conflict\":\n",
    "            response = e.body\n",
    "            print(f\"Failed[{response.code}]: {response.message}\")   "
   ]
  },
  {
   "cell_type": "markdown",
   "metadata": {},
   "source": [
    "### Model Monitor Datasets"
   ]
  },
  {
   "cell_type": "markdown",
   "metadata": {},
   "source": [
    "##### (Training / Retraining) Dataset"
   ]
  },
  {
   "cell_type": "code",
   "execution_count": null,
   "metadata": {},
   "outputs": [],
   "source": [
    "try:\n",
    "    dataset = DkubeDataset(DKUBEUSERNAME, name='titanic-training-data')\n",
    "    api.create_dataset(dataset)\n",
    "\n",
    "except Exception as e:\n",
    "    if e.reason.lower()!=\"conflict\":\n",
    "        response = e.body\n",
    "        print(f\"Failed[{response.code}]: {response.message}\")\n",
    "        "
   ]
  },
  {
   "cell_type": "markdown",
   "metadata": {},
   "source": [
    "##### Predict Dataset"
   ]
  },
  {
   "cell_type": "code",
   "execution_count": null,
   "metadata": {},
   "outputs": [],
   "source": [
    "pname =  MONITOR_NAME+'-predict'\n",
    "prefix = MONITOR_NAME+'/predict'\n",
    "\n",
    "if DATA_SOURCE == 'local':\n",
    "    try:\n",
    "        dataset = DkubeDataset(DKUBEUSERNAME, name=pname)\n",
    "        api.create_dataset(dataset)\n",
    "    \n",
    "    except Exception as e:\n",
    "        if e.reason.lower()!=\"conflict\":\n",
    "            response = e.body\n",
    "            print(f\"Failed[{response.code}]: {response.message}\")\n",
    "            \n",
    "\n",
    "if DATA_SOURCE == 'aws_s3':\n",
    "    try:\n",
    "        dataset = DkubeDataset(DKUBEUSERNAME, name=pname,remote=True)\n",
    "        dataset.update_dataset_source('aws_s3')\n",
    "        dataset.update_awss3_details(bucket=\"mm-workflow\",prefix=prefix,key=os.getenv(\"AWS_ACCESS_KEY_ID\",ACCESS_KEY),secret=os.getenv(\"AWS_SECRET_ACCESS_KEY\",SECRET_KEY))\n",
    "        api.create_dataset(dataset)\n",
    "        \n",
    "    except Exception as e:\n",
    "        if e.reason.lower()!=\"conflict\":\n",
    "            response = e.body\n",
    "            print(f\"Failed[{response.code}]: {response.message}\")\n",
    "    "
   ]
  },
  {
   "cell_type": "markdown",
   "metadata": {},
   "source": [
    "##### Labelled Dataset"
   ]
  },
  {
   "cell_type": "code",
   "execution_count": null,
   "metadata": {},
   "outputs": [],
   "source": [
    "gname = MONITOR_NAME+'-groundtruth'\n",
    "prefix = MONITOR_NAME+'/groundtruth'\n",
    "\n",
    "if DATA_SOURCE == 'local':\n",
    "    try:\n",
    "        dataset = DkubeDataset(DKUBEUSERNAME, name=gname)\n",
    "        api.create_dataset(dataset)\n",
    "    \n",
    "    except Exception as e:\n",
    "        if e.reason.lower()!=\"conflict\":\n",
    "            response = e.body\n",
    "            print(f\"Failed[{response.code}]: {response.message}\")\n",
    "            \n",
    "\n",
    "if DATA_SOURCE == 'aws_s3':\n",
    "    try:\n",
    "        dataset = DkubeDataset(DKUBEUSERNAME, name=gname,remote=True)\n",
    "        dataset.update_dataset_source('aws_s3')\n",
    "        dataset.update_awss3_details(bucket=\"mm-workflow\",prefix=prefix,key=os.getenv(\"AWS_ACCESS_KEY_ID\",ACCESS_KEY),secret=os.getenv(\"AWS_SECRET_ACCESS_KEY\",SECRET_KEY))\n",
    "        api.create_dataset(dataset)\n",
    "        \n",
    "    except Exception as e:\n",
    "        if e.reason.lower()!=\"conflict\":\n",
    "            response = e.body\n",
    "            print(f\"Failed[{response.code}]: {response.message}\")"
   ]
  },
  {
   "cell_type": "markdown",
   "metadata": {},
   "source": [
    "\n",
    "#### Model"
   ]
  },
  {
   "cell_type": "code",
   "execution_count": null,
   "metadata": {},
   "outputs": [],
   "source": [
    "if api.dkubeinfo['features'] == ['monitoring']:\n",
    "    try:\n",
    "        model = DkubeModel(DKUBEUSERNAME, name='titanic-model')\n",
    "        model.update_model_source(source='git')\n",
    "        model.update_git_details('https://github.com/oneconvergence/dkube-examples/blob/monitoring/insurance/model.joblib',branch=\"monitoring\")\n",
    "        api.create_model(model)\n",
    "\n",
    "    except Exception as e:\n",
    "        if e.reason.lower()!=\"conflict\":\n",
    "            response = e.body\n",
    "            print(f\"Failed[{response.code}]: {response.message}\")\n",
    "else:\n",
    "    try:\n",
    "        model = DkubeModel(DKUBEUSERNAME, name='titanic-model')\n",
    "        model.update_model_source(source='dvs')\n",
    "        api.create_model(model)\n",
    "    \n",
    "    except Exception as e:\n",
    "        if e.reason.lower()!=\"conflict\":\n",
    "            response = e.body\n",
    "            print(f\"Failed[{response.code}]: {response.message}\")"
   ]
  },
  {
   "cell_type": "markdown",
   "metadata": {},
   "source": [
    "#### Cleanup"
   ]
  },
  {
   "cell_type": "code",
   "execution_count": null,
   "metadata": {},
   "outputs": [],
   "source": [
    "## Set CLEANUP = True, after your experiment is complete.\n",
    "CLEANUP = False\n",
    "if CLEANUP:\n",
    "    api.delete_code(DKUBEUSERNAME,'titanic',force=True)\n",
    "    api.delete_dataset(DKUBEUSERNAME,'titanic-data',force=True)\n",
    "    api.delete_dataset(DKUBEUSERNAME,'titanic-training-data',force=True)\n",
    "    api.delete_dataset(DKUBEUSERNAME,pname,force=True)\n",
    "    api.delete_dataset(DKUBEUSERNAME,gname,force=True)\n",
    "    api.delete_model(DKUBEUSERNAME,'titanic-model',force=True)\n",
    "    %store -d MONITOR_NAME DATA_SOURCE INPUT_TRAIN_TYPE DKUBEUSERNAME TOKEN DKUBE_URL ACCESS_KEY SECRET_KEY DBHOSTNAME DATABASENAME DBUSERNAME DBPASSWORD  \n",
    "    "
   ]
  }
 ],
 "metadata": {
  "interpreter": {
   "hash": "916dbcbb3f70747c44a77c7bcd40155683ae19c65e1c03b4aa3499c5328201f1"
  },
  "kernelspec": {
   "display_name": "Python 3",
   "language": "python",
   "name": "python3"
  },
  "language_info": {
   "codemirror_mode": {
    "name": "ipython",
    "version": 3
   },
   "file_extension": ".py",
   "mimetype": "text/x-python",
   "name": "python",
   "nbconvert_exporter": "python",
   "pygments_lexer": "ipython3",
   "version": "3.6.8"
  }
 },
 "nbformat": 4,
 "nbformat_minor": 4
}
