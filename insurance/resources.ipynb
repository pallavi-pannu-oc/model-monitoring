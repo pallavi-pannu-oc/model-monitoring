{
 "cells": [
  {
   "cell_type": "markdown",
   "metadata": {},
   "source": [
    "#### Defined by User"
   ]
  },
  {
   "cell_type": "code",
   "execution_count": 50,
   "metadata": {},
   "outputs": [],
   "source": [
    "## Define the model monitor name here that you will be creating \n",
    "MONITOR_NAME = \"mm-demo\"\n",
    "## Specify the data source [aws_s3,sql,local]\n",
    "DATA_SOURCE = \"local\"\n",
    "## Specify Training type, [training,retraining]\n",
    "INPUT_TRAIN_TYPE = \"training\"\n",
    "\n",
    "## Specify to True if you are running this notebook outside Dkube\n",
    "OUTSIDE_DKUBE = True\n",
    "## If you are running Outside Dkube Fill the Dkube Authentication token , Dkube url, Dkube username below\n",
    "TOKEN = \"\"\n",
    "URL = \"\"\n",
    "DKUBEUSERNAME = \"\"\n",
    "\n",
    "## if you are running outside Dkube, Fill these AWS_S3 details \n",
    "ACCESS_KEY = \"\"\n",
    "SECRET_KEY = \"\"\n",
    "\n",
    "## if you are running outside Dkube, Fill these SQL details\n",
    "HOSTNAME = \"\"\n",
    "DATABASENAME = \"\"\n",
    "DBUSERNAME = \"\"\n",
    "PASSWORD = \"\""
   ]
  },
  {
   "cell_type": "code",
   "execution_count": 37,
   "metadata": {},
   "outputs": [],
   "source": [
    "details = {}\n",
    "details['MONITOR_NAME'] = MONITOR_NAME\n",
    "details['DATA_SOURCE'] = DATA_SOURCE\n",
    "details['INPUT_TRAIN_TYPE'] = INPUT_TRAIN_TYPE\n",
    "details ['OUTSIDE_DKUBE'] = OUTSIDE_DKUBE\n",
    "if OUTSIDE_DKUBE:\n",
    "    details['TOKEN'] = TOKEN\n",
    "    details['URL'] = URL\n",
    "    details['DKUBEUSERNAME'] = DKUBEUSERNAME\n",
    "    if DATA_SOURCE == 'aws_s3':\n",
    "        details['ACCESS_KEY'] = ACCESS_KEY\n",
    "        details['SECRET_KEY'] = SECRET_KEY\n",
    "    if DATA_SOURCE == 'sql':\n",
    "        details['HOSTNAME'] = HOSTNAME\n",
    "        details['DATABASENAME'] = DATABASENAME\n",
    "        details['DBUSERNAME'] = DBUSERNAME\n",
    "        details['PASSWORD'] = PASSWORD"
   ]
  },
  {
   "cell_type": "markdown",
   "metadata": {},
   "source": [
    "#### Dkube Resources"
   ]
  },
  {
   "cell_type": "code",
   "execution_count": 38,
   "metadata": {},
   "outputs": [],
   "source": [
    "import os, time,json,shutil\n",
    "from dkube.sdk import *"
   ]
  },
  {
   "cell_type": "code",
   "execution_count": 39,
   "metadata": {},
   "outputs": [],
   "source": [
    "if OUTSIDE_DKUBE:\n",
    "    token = TOKEN\n",
    "    dkube_url = URL\n",
    "    username = DKUBEUSERNAME\n",
    "    access_key = ACCESS_KEY\n",
    "    secret_key = SECRET_KEY\n",
    "else:\n",
    "    token = os.getenv(\"DKUBE_USER_ACCESS_TOKEN\")\n",
    "    username =  os.getenv(\"USERNAME\")\n",
    "    dkube_url = os.getenv(\"DKUBE_URL\")\n",
    "    access_key = os.getenv(\"AWS_ACCESS_KEY_ID\")\n",
    "    secret_key = os.getenv(\"AWS_SECRET_ACCESS_KEY\")\n",
    "\n",
    "\n",
    "api = DkubeApi(URL=dkube_url,token=token)\n",
    "if username == api.validate_token()['username']:\n",
    "    pass\n",
    "else:\n",
    "    print(\"Invalid User, please check your username, token details first\")"
   ]
  },
  {
   "cell_type": "markdown",
   "metadata": {},
   "source": [
    "#### Code"
   ]
  },
  {
   "cell_type": "code",
   "execution_count": 40,
   "metadata": {},
   "outputs": [],
   "source": [
    "try:\n",
    "    code = DkubeCode(username, name=\"insurance\")\n",
    "    code.update_git_details(\"https://github.com/oneconvergence/dkube-examples.git\",branch=\"monitoring\")\n",
    "    api.create_code(code)\n",
    "\n",
    "except Exception as e:\n",
    "    if e.reason.lower()!=\"conflict\":\n",
    "        response = e.body\n",
    "        print(f\"Failed[{response.code}]: {response.message}\")"
   ]
  },
  {
   "cell_type": "markdown",
   "metadata": {},
   "source": [
    "#### Dataset"
   ]
  },
  {
   "cell_type": "code",
   "execution_count": 41,
   "metadata": {},
   "outputs": [],
   "source": [
    "if DATA_SOURCE == 'local' or OUTSIDE_DKUBE :\n",
    "    try:\n",
    "        dataset = DkubeDataset(username, name='insurance-data')\n",
    "        dataset.update_git_details(url=\"https://dkube-examples-data.s3.us-west-2.amazonaws.com/monitoring-insurance/training-data/insurance.csv\")\n",
    "        dataset.update_dataset_source(source=\"pub_url\")\n",
    "        api.create_dataset(dataset)\n",
    "\n",
    "    except Exception as e:\n",
    "        if e.reason.lower()!=\"conflict\":\n",
    "            response = e.body\n",
    "            print(f\"Failed[{response.code}]: {response.message}\")\n",
    "            \n",
    "            \n",
    "if DATA_SOURCE == 'aws_s3' and not OUTSIDE_DKUBE:\n",
    "    try:\n",
    "        dataset = DkubeDataset(username, name='insurance-data',remote=True)\n",
    "        dataset.update_dataset_source('aws_s3')\n",
    "        dataset.update_awss3_details(bucket=\"dkube-examples-data\",prefix=\"monitoring-insurance/training-data\",key=access_key,secret=secret_key)\n",
    "        api.create_dataset(dataset)\n",
    "\n",
    "    except Exception as e:\n",
    "        if e.reason.lower()!=\"conflict\":\n",
    "            response = e.body\n",
    "            print(f\"Failed[{response.code}]: {response.message}\")   "
   ]
  },
  {
   "cell_type": "markdown",
   "metadata": {},
   "source": [
    "### Model Monitor Datasets"
   ]
  },
  {
   "cell_type": "markdown",
   "metadata": {},
   "source": [
    "##### (Training / Retraining) Dataset"
   ]
  },
  {
   "cell_type": "code",
   "execution_count": 42,
   "metadata": {},
   "outputs": [],
   "source": [
    "if not OUTSIDE_DKUBE:\n",
    "    try:\n",
    "        dataset = DkubeDataset(username, name='insurance-training-data')\n",
    "        api.create_dataset(dataset)\n",
    "\n",
    "    except Exception as e:\n",
    "        if e.reason.lower()!=\"conflict\":\n",
    "            response = e.body\n",
    "            print(f\"Failed[{response.code}]: {response.message}\")"
   ]
  },
  {
   "cell_type": "markdown",
   "metadata": {},
   "source": [
    "##### Predict Dataset"
   ]
  },
  {
   "cell_type": "code",
   "execution_count": 43,
   "metadata": {},
   "outputs": [],
   "source": [
    "pname =  MONITOR_NAME+'-predict'\n",
    "prefix = MONITOR_NAME+'/predict'\n",
    "\n",
    "if DATA_SOURCE == 'local':\n",
    "    try:\n",
    "        dataset = DkubeDataset(username, name=pname)\n",
    "        api.create_dataset(dataset)\n",
    "    \n",
    "    except Exception as e:\n",
    "        if e.reason.lower()!=\"conflict\":\n",
    "            response = e.body\n",
    "            print(f\"Failed[{response.code}]: {response.message}\")\n",
    "            \n",
    "\n",
    "if DATA_SOURCE == 'aws_s3':\n",
    "    try:\n",
    "        dataset = DkubeDataset(username, name=pname,remote=True)\n",
    "        dataset.update_dataset_source('aws_s3')\n",
    "        dataset.update_awss3_details(bucket=\"mm-workflow\",prefix=prefix,key=access_key,secret=secret_key)\n",
    "        api.create_dataset(dataset)\n",
    "        \n",
    "    except Exception as e:\n",
    "        if e.reason.lower()!=\"conflict\":\n",
    "            response = e.body\n",
    "            print(f\"Failed[{response.code}]: {response.message}\")\n",
    "    "
   ]
  },
  {
   "cell_type": "markdown",
   "metadata": {},
   "source": [
    "##### Labelled Dataset"
   ]
  },
  {
   "cell_type": "code",
   "execution_count": 44,
   "metadata": {},
   "outputs": [],
   "source": [
    "gname = MONITOR_NAME+'-groundtruth'\n",
    "prefix = MONITOR_NAME+'/groundtruth'\n",
    "\n",
    "if DATA_SOURCE == 'local':\n",
    "    try:\n",
    "        dataset = DkubeDataset(username, name=gname)\n",
    "        api.create_dataset(dataset)\n",
    "    \n",
    "    except Exception as e:\n",
    "        if e.reason.lower()!=\"conflict\":\n",
    "            response = e.body\n",
    "            print(f\"Failed[{response.code}]: {response.message}\")\n",
    "            \n",
    "\n",
    "if DATA_SOURCE == 'aws_s3':\n",
    "    try:\n",
    "        dataset = DkubeDataset(username, name=gname,remote=True)\n",
    "        dataset.update_dataset_source('aws_s3')\n",
    "        dataset.update_awss3_details(bucket=\"mm-workflow\",prefix=prefix,key=access_key,secret=secret_key)\n",
    "        api.create_dataset(dataset)\n",
    "        \n",
    "    except Exception as e:\n",
    "        if e.reason.lower()!=\"conflict\":\n",
    "            response = e.body\n",
    "            print(f\"Failed[{response.code}]: {response.message}\")"
   ]
  },
  {
   "cell_type": "markdown",
   "metadata": {},
   "source": [
    "#### Model"
   ]
  },
  {
   "cell_type": "code",
   "execution_count": 45,
   "metadata": {},
   "outputs": [],
   "source": [
    "if api.dkubeinfo['features'] == ['monitoring']:\n",
    "    try:\n",
    "        model = DkubeModel(username, name='insurance-model')\n",
    "        model.update_model_source(source='git')\n",
    "        model.update_git_details('https://github.com/oneconvergence/dkube-examples/blob/monitoring/insurance/model.joblib',branch=\"monitoring\")\n",
    "        api.create_model(model)\n",
    "\n",
    "    except Exception as e:\n",
    "        if e.reason.lower()!=\"conflict\":\n",
    "            response = e.body\n",
    "            print(f\"Failed[{response.code}]: {response.message}\")\n",
    "else:\n",
    "    try:\n",
    "        model = DkubeModel(username, name='insurance-model')\n",
    "        model.update_model_source(source='dvs')\n",
    "        api.create_model(model)\n",
    "    \n",
    "    except Exception as e:\n",
    "        if e.reason.lower()!=\"conflict\":\n",
    "            response = e.body\n",
    "            print(f\"Failed[{response.code}]: {response.message}\")"
   ]
  },
  {
   "cell_type": "markdown",
   "metadata": {},
   "source": [
    "\n",
    "\n",
    "#### Saving MM-Details"
   ]
  },
  {
   "cell_type": "code",
   "execution_count": 46,
   "metadata": {},
   "outputs": [],
   "source": [
    "\n",
    "HOME = '/home/'+username+'/workspace/insurance/insurance'"
   ]
  },
  {
   "cell_type": "code",
   "execution_count": 47,
   "metadata": {},
   "outputs": [],
   "source": [
    "with open(\"details.txt\",\"w\") as f:\n",
    "    json.dump(details,f)"
   ]
  },
  {
   "cell_type": "code",
   "execution_count": 48,
   "metadata": {},
   "outputs": [],
   "source": [
    "if not OUTSIDE_DKUBE:\n",
    "    shutil.copy('details.txt',HOME)"
   ]
  },
  {
   "cell_type": "markdown",
   "metadata": {},
   "source": [
    "#### Cleanup"
   ]
  },
  {
   "cell_type": "code",
   "execution_count": 49,
   "metadata": {},
   "outputs": [],
   "source": [
    "## Set CLEANUP = True, after your experiment is complete.\n",
    "CLEANUP = False\n",
    "if CLEANUP:\n",
    "    api.delete_code(username,'insurance',force=True)\n",
    "    api.delete_dataset(username,'insurance-data',force=True)\n",
    "    api.delete_dataset(username,'insurance-training-data',force=True)\n",
    "    api.delete_dataset(username,pname,force=True)\n",
    "    api.delete_dataset(username,gname,force=True)\n",
    "    api.delete_model(username,'insurance-model',force=True)\n",
    "    "
   ]
  }
 ],
 "metadata": {
  "interpreter": {
   "hash": "916dbcbb3f70747c44a77c7bcd40155683ae19c65e1c03b4aa3499c5328201f1"
  },
  "kernelspec": {
   "display_name": "Python 3.8.10 64-bit",
   "name": "python3"
  },
  "language_info": {
   "codemirror_mode": {
    "name": "ipython",
    "version": 3
   },
   "file_extension": ".py",
   "mimetype": "text/x-python",
   "name": "python",
   "nbconvert_exporter": "python",
   "pygments_lexer": "ipython3",
   "version": "3.8.10"
  }
 },
 "nbformat": 4,
 "nbformat_minor": 4
}
