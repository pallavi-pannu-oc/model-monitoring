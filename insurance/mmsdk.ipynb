{
 "cells": [
  {
   "cell_type": "markdown",
   "metadata": {},
   "source": [
    "## MM-SDK"
   ]
  },
  {
   "cell_type": "code",
   "execution_count": null,
   "metadata": {},
   "outputs": [],
   "source": [
    "## Set CLEANUP = True, after your experiment is complete.\n",
    "CLEANUP=False"
   ]
  },
  {
   "cell_type": "code",
   "execution_count": null,
   "metadata": {},
   "outputs": [],
   "source": [
    "import os\n",
    "from dkube.sdk import *\n",
    "from dkube.sdk.api import DkubeApi\n",
    "from dkube.sdk.rsrcs import DkubeModelmonitor\n",
    "from dkube.sdk.rsrcs.modelmonitor import DkubeModelmonitordataset,DkubeModelmonitoralert\n",
    "from dkube.sdk.rsrcs.modelmonitor import ModelFrameworks,DatasetClass,AlertClass,ModelType,ModelCategory,DriftAlgo"
   ]
  },
  {
   "cell_type": "code",
   "execution_count": null,
   "metadata": {},
   "outputs": [],
   "source": [
    "token = os.getenv(\"DKUBE_USER_ACCESS_TOKEN\")\n",
    "username =  os.getenv(\"USERNAME\")\n",
    "dkube_url = os.getenv(\"DKUBE_URL\")\n",
    "api = DkubeApi(URL=dkube_url,token=token)"
   ]
  },
  {
   "cell_type": "code",
   "execution_count": null,
   "metadata": {},
   "outputs": [],
   "source": [
    "mt=ModelType.Regression\n",
    "da=DriftAlgo.Auto\n",
    "dc_t=DatasetClass.TrainData\n",
    "dc_p=DatasetClass.PredictData\n",
    "text_file = open(\"transformer-data.py\", \"r\")\n",
    "#read whole file to a string\n",
    "script = text_file.read()\n",
    "#close file\n",
    "text_file.close()"
   ]
  },
  {
   "cell_type": "code",
   "execution_count": null,
   "metadata": {},
   "outputs": [],
   "source": [
    "import json\n",
    "with open(\"details.txt\",\"r\") as f:\n",
    "    x = json.load(f)\n",
    "mm_name = x[0]"
   ]
  },
  {
   "cell_type": "code",
   "execution_count": null,
   "metadata": {},
   "outputs": [],
   "source": [
    "model_name = 'insurance-model:'+username\n",
    "for i in api.get_model_versions(username,'insurance-model'):\n",
    "    if i['version']['name'] == 'v2':\n",
    "        version = i['version']['uuid']\n",
    "model_version = 'v2:'+version"
   ]
  },
  {
   "cell_type": "code",
   "execution_count": null,
   "metadata": {},
   "outputs": [],
   "source": [
    "training_data = 'insurance-training-data:'+username\n",
    "prediction_data = mm_name+'-predict:'+username\n",
    "labelled_data = mm_name+'-groundtruth:'+username\n",
    "\n",
    "train_data_version = 'v2:'+api.get_dataset_versions(username,'insurance-data')[0]['version']['uuid']\n",
    "predict_data_version = 'v1:'+api.get_dataset_versions(username,mm_name+'-predict')[0]['version']['uuid']\n",
    "labelled_data_version = 'v1:'+api.get_dataset_versions(username,mm_name+'-groundtruth')[0]['version']['uuid']"
   ]
  },
  {
   "cell_type": "markdown",
   "metadata": {},
   "source": [
    "### 1. CREATE MODEL MONITOR"
   ]
  },
  {
   "cell_type": "code",
   "execution_count": null,
   "metadata": {},
   "outputs": [],
   "source": [
    "mm=DkubeModelmonitor(name=mm_name,model_name=model_name,description='mm',tags=\"d3qatest\")\n",
    "mm.update_modelmonitor(model_type=str(mt),run_freq=5,version=model_version,drift_algo=str(da))"
   ]
  },
  {
   "cell_type": "code",
   "execution_count": null,
   "metadata": {},
   "outputs": [],
   "source": [
    "api.modelmonitor_create(mm,wait_for_completion=True)"
   ]
  },
  {
   "cell_type": "markdown",
   "metadata": {},
   "source": [
    "#### Extracting ID of the model monitor"
   ]
  },
  {
   "cell_type": "code",
   "execution_count": 91,
   "metadata": {},
   "outputs": [],
   "source": [
    "id = api.modelmonitor_get_id(mm_name)"
   ]
  },
  {
   "cell_type": "markdown",
   "metadata": {},
   "source": [
    "### 2. Add Training Data"
   ]
  },
  {
   "cell_type": "code",
   "execution_count": null,
   "metadata": {},
   "outputs": [],
   "source": [
    "data = DkubeModelmonitordataset(name = training_data)\n",
    "data.update_dataset(data_class = str(DatasetClass.TrainData),transformer_script=script,version=train_data_version)\n",
    "api.modelmonitor_add_dataset(id,data)"
   ]
  },
  {
   "cell_type": "markdown",
   "metadata": {},
   "source": [
    "### 3. Update schema"
   ]
  },
  {
   "cell_type": "code",
   "execution_count": null,
   "metadata": {},
   "outputs": [],
   "source": [
    "api.modelmonitor_update_schema(id,label='charges',schema_class='Continuous',schema_type=\"PredictionOutput\",selected=False)\n",
    "api.modelmonitor_update_schema(id,label='unique_id',schema_class='Continuous',schema_type=\"RowID\",selected=False)\n",
    "api.modelmonitor_update_schema(id,label='timestamp',schema_class='Continuous',schema_type=\"Timestamp\",selected=False)\n",
    "\n",
    "## age and bmi to continuous\n",
    "api.modelmonitor_update_schema(id,label='age',schema_class='Continuous')\n",
    "api.modelmonitor_update_schema(id,label='bmi',schema_class='Continuous')\n",
    "\n",
    "## select these features\n",
    "api.modelmonitor_update_schema(id,label='sex')\n",
    "api.modelmonitor_update_schema(id,label='children')\n",
    "api.modelmonitor_update_schema(id,label='smoker')\n",
    "api.modelmonitor_update_schema(id,label='region')"
   ]
  },
  {
   "cell_type": "markdown",
   "metadata": {},
   "source": [
    "### 4. Add Prediction data"
   ]
  },
  {
   "cell_type": "code",
   "execution_count": null,
   "metadata": {},
   "outputs": [],
   "source": [
    "data = DkubeModelmonitordataset(name = prediction_data)\n",
    "data.update_dataset(data_class = str(DatasetClass.PredictData),version = predict_data_version)\n",
    "api.modelmonitor_add_dataset(id,data)"
   ]
  },
  {
   "cell_type": "markdown",
   "metadata": {},
   "source": [
    "### 4. Add Labelled data"
   ]
  },
  {
   "cell_type": "code",
   "execution_count": null,
   "metadata": {},
   "outputs": [],
   "source": [
    "data = DkubeModelmonitordataset(name =labelled_data)\n",
    "data.update_dataset(data_class = str(DatasetClass.LabelledData),groundtruth_col='GT_target',predict_col='charges',version=labelled_data_version)\n",
    "api.modelmonitor_add_dataset(id,data)"
   ]
  },
  {
   "cell_type": "markdown",
   "metadata": {},
   "source": [
    "### 5. Add Alert"
   ]
  },
  {
   "cell_type": "markdown",
   "metadata": {},
   "source": [
    "#### Feature Alerts"
   ]
  },
  {
   "cell_type": "code",
   "execution_count": null,
   "metadata": {},
   "outputs": [],
   "source": [
    "alert = DkubeModelmonitoralert(name='age_alert')\n",
    "alert.update_alert(alert_class = 'FeatureDrift',feature='age',threshold=0.02)\n",
    "api.modelmonitor_add_alert(id,alert)"
   ]
  },
  {
   "cell_type": "code",
   "execution_count": null,
   "metadata": {},
   "outputs": [],
   "source": [
    "alert = DkubeModelmonitoralert(name='bmi_alert')\n",
    "alert.update_alert(alert_class = 'FeatureDrift',feature='bmi',threshold=0.05)\n",
    "api.modelmonitor_add_alert(id,alert)"
   ]
  },
  {
   "cell_type": "markdown",
   "metadata": {},
   "source": [
    "#### Performance Alerts"
   ]
  },
  {
   "cell_type": "code",
   "execution_count": null,
   "metadata": {},
   "outputs": [],
   "source": [
    "alert = DkubeModelmonitoralert(name='metrics_alert')\n",
    "alert.update_alert(alert_class = 'PerformanceDecay',feature='mse',threshold=1)\n",
    "api.modelmonitor_add_alert(id,alert)"
   ]
  },
  {
   "cell_type": "markdown",
   "metadata": {},
   "source": [
    "### 6. Start the Model Monitor"
   ]
  },
  {
   "cell_type": "code",
   "execution_count": null,
   "metadata": {},
   "outputs": [],
   "source": [
    "api.modelmonitor_start(id)"
   ]
  },
  {
   "cell_type": "markdown",
   "metadata": {},
   "source": [
    "### 7. Cleanup"
   ]
  },
  {
   "cell_type": "code",
   "execution_count": null,
   "metadata": {},
   "outputs": [],
   "source": [
    "if CLEANUP:\n",
    "    api.modelmonitor_delete(id)"
   ]
  }
 ],
 "metadata": {
  "kernelspec": {
   "display_name": "Python 3",
   "language": "python",
   "name": "python3"
  },
  "language_info": {
   "codemirror_mode": {
    "name": "ipython",
    "version": 3
   },
   "file_extension": ".py",
   "mimetype": "text/x-python",
   "name": "python",
   "nbconvert_exporter": "python",
   "pygments_lexer": "ipython3",
   "version": "3.6.8"
  }
 },
 "nbformat": 4,
 "nbformat_minor": 4
}
